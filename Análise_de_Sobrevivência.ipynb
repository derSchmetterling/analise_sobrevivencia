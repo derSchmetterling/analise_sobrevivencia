{
  "cells": [
    {
      "cell_type": "markdown",
      "metadata": {
        "id": "Q1G5m3QPJUZ_"
      },
      "source": [
        "Outra biblioteca do Python -> https://lifelines.readthedocs.io/en/latest/Quickstart.html?highlight=kaplan%20meier"
      ]
    },
    {
      "cell_type": "code",
      "execution_count": null,
      "metadata": {
        "id": "jNbg4d4aTxpi"
      },
      "outputs": [],
      "source": [
        "!pip install pysurvival"
      ]
    },
    {
      "cell_type": "code",
      "execution_count": null,
      "metadata": {
        "id": "HTldoE40wFWc"
      },
      "outputs": [],
      "source": [
        "# Bibliotecas para manipulação de dados\n",
        "import pandas as pd\n",
        "import numpy as np\n",
        "\n",
        "# Biblioteca para construir gráficos\n",
        "import matplotlib.pyplot as plt\n",
        "\n",
        "# Biblioteca para analise não paramétrica dos dados\n",
        "from pysurvival.models.non_parametric import KaplanMeierModel"
      ]
    },
    {
      "cell_type": "markdown",
      "metadata": {
        "id": "79e2Q_hHFbQa"
      },
      "source": [
        "# Dados"
      ]
    },
    {
      "cell_type": "code",
      "execution_count": null,
      "metadata": {
        "colab": {
          "base_uri": "https://localhost:8080/",
          "height": 890
        },
        "id": "ax619CafGF4D",
        "outputId": "ee23ae0d-f655-45e9-9f3c-c36e650666ce"
      },
      "outputs": [
        {
          "output_type": "stream",
          "name": "stdout",
          "text": [
            "Data shape: (18142, 35)\n",
            "Colunas: Index(['Id', 'Name', 'Url', 'State', 'Currency', 'Top Category', 'Category',\n",
            "       'Creator', 'Location', 'Updates', 'Comments', 'Rewards', 'Goal',\n",
            "       'Pledged', 'Backers', 'Start', 'End', 'Duration in Days',\n",
            "       'Facebook Connected', 'Facebook Friends', 'Facebook Shares',\n",
            "       'Has Video', 'Latitude', 'Longitude', 'Start Timestamp (UTC)',\n",
            "       'End Timestamp (UTC)', 'Creator Bio', 'Creator Website',\n",
            "       'Creator - # Projects Created', 'Creator - # Projects Backed',\n",
            "       '# Videos', '# Images', '# Words (Description)',\n",
            "       '# Words (Risks and Challenges)', '# FAQs'],\n",
            "      dtype='object')\n"
          ]
        },
        {
          "output_type": "stream",
          "name": "stderr",
          "text": [
            "/usr/local/lib/python3.7/dist-packages/IPython/core/interactiveshell.py:2882: DtypeWarning: Columns (27) have mixed types.Specify dtype option on import or set low_memory=False.\n",
            "  exec(code_obj, self.user_global_ns, self.user_ns)\n"
          ]
        },
        {
          "output_type": "execute_result",
          "data": {
            "text/plain": [
              "           Id                                               Name  \\\n",
              "0  1007121454  Nail Art and Photos Printed on your Nails w/ E...   \n",
              "1  2032015036                                         Cold Again   \n",
              "2   733782855                                 Uchu Bijin Jewelry   \n",
              "3   514687871  Poetically Speaking: Stories of Love, Triumph ...   \n",
              "4   683545993  Stranger Travels: Teachings from the Heart of ...   \n",
              "\n",
              "                                                 Url   State Currency  \\\n",
              "0  https://www.kickstarter.com/projects/137019948...  failed      USD   \n",
              "1  https://www.kickstarter.com/projects/737783165...  failed      USD   \n",
              "2  https://www.kickstarter.com/projects/uchubijin...  failed      USD   \n",
              "3  https://www.kickstarter.com/projects/tylicee/p...  failed      USD   \n",
              "4  https://www.kickstarter.com/projects/197270300...  failed      USD   \n",
              "\n",
              "   Top Category    Category           Creator  Location  Updates  ...  \\\n",
              "0           Art         Art       Dodie Egolf  Puyallup        0  ...   \n",
              "1  Film & Video  Short Film      James Jacobs    Boston        0  ...   \n",
              "2       Fashion     Fashion        Uchu Bijin  New York        1  ...   \n",
              "3    Publishing      Poetry  Tylicee Mysreign   Detroit        0  ...   \n",
              "4    Publishing  Nonfiction      Ian Driscoll  Pucallpa        0  ...   \n",
              "\n",
              "       End Timestamp (UTC)                                     Creator Bio  \\\n",
              "0  2014/01/14 01:53:49.000  https://www.kickstarter.com/profile/1370199487   \n",
              "1  2014/01/17 02:30:01.000   https://www.kickstarter.com/profile/737783165   \n",
              "2  2014/01/14 01:29:42.000   https://www.kickstarter.com/profile/858150887   \n",
              "3  2014/02/13 01:12:28.000  https://www.kickstarter.com/profile/1079088465   \n",
              "4  2014/01/14 01:17:46.000  https://www.kickstarter.com/profile/1972703001   \n",
              "\n",
              "                                    Creator Website  \\\n",
              "0                                               NaN   \n",
              "1                                               NaN   \n",
              "2                              http://uchubijin.com   \n",
              "3  http://www.linkedin.com/pub/mys-reign/1a/469/4a8   \n",
              "4              http://strangertravels.wordpress.com   \n",
              "\n",
              "   Creator - # Projects Created  Creator - # Projects Backed # Videos  \\\n",
              "0                             1                          0.0      0.0   \n",
              "1                             1                          4.0      0.0   \n",
              "2                             2                          2.0      0.0   \n",
              "3                             1                          2.0      0.0   \n",
              "4                             1                          0.0      0.0   \n",
              "\n",
              "  # Images  # Words (Description) # Words (Risks and Challenges)  # FAQs  \n",
              "0        2                    297                          153.0       0  \n",
              "1        0                    276                           98.0       0  \n",
              "2       12                   1049                           66.0       2  \n",
              "3        0                    309                          169.0       0  \n",
              "4        6                   1636                          216.0       0  \n",
              "\n",
              "[5 rows x 35 columns]"
            ],
            "text/html": [
              "\n",
              "  <div id=\"df-6ba2d1af-d531-4980-a41f-4180c02f8660\">\n",
              "    <div class=\"colab-df-container\">\n",
              "      <div>\n",
              "<style scoped>\n",
              "    .dataframe tbody tr th:only-of-type {\n",
              "        vertical-align: middle;\n",
              "    }\n",
              "\n",
              "    .dataframe tbody tr th {\n",
              "        vertical-align: top;\n",
              "    }\n",
              "\n",
              "    .dataframe thead th {\n",
              "        text-align: right;\n",
              "    }\n",
              "</style>\n",
              "<table border=\"1\" class=\"dataframe\">\n",
              "  <thead>\n",
              "    <tr style=\"text-align: right;\">\n",
              "      <th></th>\n",
              "      <th>Id</th>\n",
              "      <th>Name</th>\n",
              "      <th>Url</th>\n",
              "      <th>State</th>\n",
              "      <th>Currency</th>\n",
              "      <th>Top Category</th>\n",
              "      <th>Category</th>\n",
              "      <th>Creator</th>\n",
              "      <th>Location</th>\n",
              "      <th>Updates</th>\n",
              "      <th>...</th>\n",
              "      <th>End Timestamp (UTC)</th>\n",
              "      <th>Creator Bio</th>\n",
              "      <th>Creator Website</th>\n",
              "      <th>Creator - # Projects Created</th>\n",
              "      <th>Creator - # Projects Backed</th>\n",
              "      <th># Videos</th>\n",
              "      <th># Images</th>\n",
              "      <th># Words (Description)</th>\n",
              "      <th># Words (Risks and Challenges)</th>\n",
              "      <th># FAQs</th>\n",
              "    </tr>\n",
              "  </thead>\n",
              "  <tbody>\n",
              "    <tr>\n",
              "      <th>0</th>\n",
              "      <td>1007121454</td>\n",
              "      <td>Nail Art and Photos Printed on your Nails w/ E...</td>\n",
              "      <td>https://www.kickstarter.com/projects/137019948...</td>\n",
              "      <td>failed</td>\n",
              "      <td>USD</td>\n",
              "      <td>Art</td>\n",
              "      <td>Art</td>\n",
              "      <td>Dodie Egolf</td>\n",
              "      <td>Puyallup</td>\n",
              "      <td>0</td>\n",
              "      <td>...</td>\n",
              "      <td>2014/01/14 01:53:49.000</td>\n",
              "      <td>https://www.kickstarter.com/profile/1370199487</td>\n",
              "      <td>NaN</td>\n",
              "      <td>1</td>\n",
              "      <td>0.0</td>\n",
              "      <td>0.0</td>\n",
              "      <td>2</td>\n",
              "      <td>297</td>\n",
              "      <td>153.0</td>\n",
              "      <td>0</td>\n",
              "    </tr>\n",
              "    <tr>\n",
              "      <th>1</th>\n",
              "      <td>2032015036</td>\n",
              "      <td>Cold Again</td>\n",
              "      <td>https://www.kickstarter.com/projects/737783165...</td>\n",
              "      <td>failed</td>\n",
              "      <td>USD</td>\n",
              "      <td>Film &amp; Video</td>\n",
              "      <td>Short Film</td>\n",
              "      <td>James Jacobs</td>\n",
              "      <td>Boston</td>\n",
              "      <td>0</td>\n",
              "      <td>...</td>\n",
              "      <td>2014/01/17 02:30:01.000</td>\n",
              "      <td>https://www.kickstarter.com/profile/737783165</td>\n",
              "      <td>NaN</td>\n",
              "      <td>1</td>\n",
              "      <td>4.0</td>\n",
              "      <td>0.0</td>\n",
              "      <td>0</td>\n",
              "      <td>276</td>\n",
              "      <td>98.0</td>\n",
              "      <td>0</td>\n",
              "    </tr>\n",
              "    <tr>\n",
              "      <th>2</th>\n",
              "      <td>733782855</td>\n",
              "      <td>Uchu Bijin Jewelry</td>\n",
              "      <td>https://www.kickstarter.com/projects/uchubijin...</td>\n",
              "      <td>failed</td>\n",
              "      <td>USD</td>\n",
              "      <td>Fashion</td>\n",
              "      <td>Fashion</td>\n",
              "      <td>Uchu Bijin</td>\n",
              "      <td>New York</td>\n",
              "      <td>1</td>\n",
              "      <td>...</td>\n",
              "      <td>2014/01/14 01:29:42.000</td>\n",
              "      <td>https://www.kickstarter.com/profile/858150887</td>\n",
              "      <td>http://uchubijin.com</td>\n",
              "      <td>2</td>\n",
              "      <td>2.0</td>\n",
              "      <td>0.0</td>\n",
              "      <td>12</td>\n",
              "      <td>1049</td>\n",
              "      <td>66.0</td>\n",
              "      <td>2</td>\n",
              "    </tr>\n",
              "    <tr>\n",
              "      <th>3</th>\n",
              "      <td>514687871</td>\n",
              "      <td>Poetically Speaking: Stories of Love, Triumph ...</td>\n",
              "      <td>https://www.kickstarter.com/projects/tylicee/p...</td>\n",
              "      <td>failed</td>\n",
              "      <td>USD</td>\n",
              "      <td>Publishing</td>\n",
              "      <td>Poetry</td>\n",
              "      <td>Tylicee Mysreign</td>\n",
              "      <td>Detroit</td>\n",
              "      <td>0</td>\n",
              "      <td>...</td>\n",
              "      <td>2014/02/13 01:12:28.000</td>\n",
              "      <td>https://www.kickstarter.com/profile/1079088465</td>\n",
              "      <td>http://www.linkedin.com/pub/mys-reign/1a/469/4a8</td>\n",
              "      <td>1</td>\n",
              "      <td>2.0</td>\n",
              "      <td>0.0</td>\n",
              "      <td>0</td>\n",
              "      <td>309</td>\n",
              "      <td>169.0</td>\n",
              "      <td>0</td>\n",
              "    </tr>\n",
              "    <tr>\n",
              "      <th>4</th>\n",
              "      <td>683545993</td>\n",
              "      <td>Stranger Travels: Teachings from the Heart of ...</td>\n",
              "      <td>https://www.kickstarter.com/projects/197270300...</td>\n",
              "      <td>failed</td>\n",
              "      <td>USD</td>\n",
              "      <td>Publishing</td>\n",
              "      <td>Nonfiction</td>\n",
              "      <td>Ian Driscoll</td>\n",
              "      <td>Pucallpa</td>\n",
              "      <td>0</td>\n",
              "      <td>...</td>\n",
              "      <td>2014/01/14 01:17:46.000</td>\n",
              "      <td>https://www.kickstarter.com/profile/1972703001</td>\n",
              "      <td>http://strangertravels.wordpress.com</td>\n",
              "      <td>1</td>\n",
              "      <td>0.0</td>\n",
              "      <td>0.0</td>\n",
              "      <td>6</td>\n",
              "      <td>1636</td>\n",
              "      <td>216.0</td>\n",
              "      <td>0</td>\n",
              "    </tr>\n",
              "  </tbody>\n",
              "</table>\n",
              "<p>5 rows × 35 columns</p>\n",
              "</div>\n",
              "      <button class=\"colab-df-convert\" onclick=\"convertToInteractive('df-6ba2d1af-d531-4980-a41f-4180c02f8660')\"\n",
              "              title=\"Convert this dataframe to an interactive table.\"\n",
              "              style=\"display:none;\">\n",
              "        \n",
              "  <svg xmlns=\"http://www.w3.org/2000/svg\" height=\"24px\"viewBox=\"0 0 24 24\"\n",
              "       width=\"24px\">\n",
              "    <path d=\"M0 0h24v24H0V0z\" fill=\"none\"/>\n",
              "    <path d=\"M18.56 5.44l.94 2.06.94-2.06 2.06-.94-2.06-.94-.94-2.06-.94 2.06-2.06.94zm-11 1L8.5 8.5l.94-2.06 2.06-.94-2.06-.94L8.5 2.5l-.94 2.06-2.06.94zm10 10l.94 2.06.94-2.06 2.06-.94-2.06-.94-.94-2.06-.94 2.06-2.06.94z\"/><path d=\"M17.41 7.96l-1.37-1.37c-.4-.4-.92-.59-1.43-.59-.52 0-1.04.2-1.43.59L10.3 9.45l-7.72 7.72c-.78.78-.78 2.05 0 2.83L4 21.41c.39.39.9.59 1.41.59.51 0 1.02-.2 1.41-.59l7.78-7.78 2.81-2.81c.8-.78.8-2.07 0-2.86zM5.41 20L4 18.59l7.72-7.72 1.47 1.35L5.41 20z\"/>\n",
              "  </svg>\n",
              "      </button>\n",
              "      \n",
              "  <style>\n",
              "    .colab-df-container {\n",
              "      display:flex;\n",
              "      flex-wrap:wrap;\n",
              "      gap: 12px;\n",
              "    }\n",
              "\n",
              "    .colab-df-convert {\n",
              "      background-color: #E8F0FE;\n",
              "      border: none;\n",
              "      border-radius: 50%;\n",
              "      cursor: pointer;\n",
              "      display: none;\n",
              "      fill: #1967D2;\n",
              "      height: 32px;\n",
              "      padding: 0 0 0 0;\n",
              "      width: 32px;\n",
              "    }\n",
              "\n",
              "    .colab-df-convert:hover {\n",
              "      background-color: #E2EBFA;\n",
              "      box-shadow: 0px 1px 2px rgba(60, 64, 67, 0.3), 0px 1px 3px 1px rgba(60, 64, 67, 0.15);\n",
              "      fill: #174EA6;\n",
              "    }\n",
              "\n",
              "    [theme=dark] .colab-df-convert {\n",
              "      background-color: #3B4455;\n",
              "      fill: #D2E3FC;\n",
              "    }\n",
              "\n",
              "    [theme=dark] .colab-df-convert:hover {\n",
              "      background-color: #434B5C;\n",
              "      box-shadow: 0px 1px 3px 1px rgba(0, 0, 0, 0.15);\n",
              "      filter: drop-shadow(0px 1px 2px rgba(0, 0, 0, 0.3));\n",
              "      fill: #FFFFFF;\n",
              "    }\n",
              "  </style>\n",
              "\n",
              "      <script>\n",
              "        const buttonEl =\n",
              "          document.querySelector('#df-6ba2d1af-d531-4980-a41f-4180c02f8660 button.colab-df-convert');\n",
              "        buttonEl.style.display =\n",
              "          google.colab.kernel.accessAllowed ? 'block' : 'none';\n",
              "\n",
              "        async function convertToInteractive(key) {\n",
              "          const element = document.querySelector('#df-6ba2d1af-d531-4980-a41f-4180c02f8660');\n",
              "          const dataTable =\n",
              "            await google.colab.kernel.invokeFunction('convertToInteractive',\n",
              "                                                     [key], {});\n",
              "          if (!dataTable) return;\n",
              "\n",
              "          const docLinkHtml = 'Like what you see? Visit the ' +\n",
              "            '<a target=\"_blank\" href=https://colab.research.google.com/notebooks/data_table.ipynb>data table notebook</a>'\n",
              "            + ' to learn more about interactive tables.';\n",
              "          element.innerHTML = '';\n",
              "          dataTable['output_type'] = 'display_data';\n",
              "          await google.colab.output.renderOutput(dataTable, element);\n",
              "          const docLink = document.createElement('div');\n",
              "          docLink.innerHTML = docLinkHtml;\n",
              "          element.appendChild(docLink);\n",
              "        }\n",
              "      </script>\n",
              "    </div>\n",
              "  </div>\n",
              "  "
            ]
          },
          "metadata": {},
          "execution_count": 3
        }
      ],
      "source": [
        "df = pd.read_csv('https://raw.githubusercontent.com/derSchmetterling/analise_sobrevivencia/main/Dados/18k_Projects.csv', header=0, sep=\"\t\")\n",
        "print('Data shape:', df.shape)\n",
        "print('Colunas:', df.columns)\n",
        "df.head()"
      ]
    },
    {
      "cell_type": "code",
      "source": [
        "# resumindo a base de dados às colunas que queremos:\n",
        "data = df.loc[:,['Duration in Days', 'State', 'Has Video', 'Facebook Connected', 'Facebook Shares', 'Creator Website']]\n",
        "data.head()"
      ],
      "metadata": {
        "colab": {
          "base_uri": "https://localhost:8080/",
          "height": 206
        },
        "id": "15BrMvWTpyzT",
        "outputId": "94668aff-c761-446a-b786-4775d2a11c47"
      },
      "execution_count": null,
      "outputs": [
        {
          "output_type": "execute_result",
          "data": {
            "text/plain": [
              "   Duration in Days   State Has Video Facebook Connected  Facebook Shares  \\\n",
              "0                30  failed       Yes                Yes               70   \n",
              "1                33  failed       Yes                Yes               57   \n",
              "2                30  failed        No                 No              158   \n",
              "3                60  failed       Yes                Yes                2   \n",
              "4                30  failed       Yes                Yes              411   \n",
              "\n",
              "                                    Creator Website  \n",
              "0                                               NaN  \n",
              "1                                               NaN  \n",
              "2                              http://uchubijin.com  \n",
              "3  http://www.linkedin.com/pub/mys-reign/1a/469/4a8  \n",
              "4              http://strangertravels.wordpress.com  "
            ],
            "text/html": [
              "\n",
              "  <div id=\"df-2e872bd7-9324-4637-a5b0-9c9efe1d4d86\">\n",
              "    <div class=\"colab-df-container\">\n",
              "      <div>\n",
              "<style scoped>\n",
              "    .dataframe tbody tr th:only-of-type {\n",
              "        vertical-align: middle;\n",
              "    }\n",
              "\n",
              "    .dataframe tbody tr th {\n",
              "        vertical-align: top;\n",
              "    }\n",
              "\n",
              "    .dataframe thead th {\n",
              "        text-align: right;\n",
              "    }\n",
              "</style>\n",
              "<table border=\"1\" class=\"dataframe\">\n",
              "  <thead>\n",
              "    <tr style=\"text-align: right;\">\n",
              "      <th></th>\n",
              "      <th>Duration in Days</th>\n",
              "      <th>State</th>\n",
              "      <th>Has Video</th>\n",
              "      <th>Facebook Connected</th>\n",
              "      <th>Facebook Shares</th>\n",
              "      <th>Creator Website</th>\n",
              "    </tr>\n",
              "  </thead>\n",
              "  <tbody>\n",
              "    <tr>\n",
              "      <th>0</th>\n",
              "      <td>30</td>\n",
              "      <td>failed</td>\n",
              "      <td>Yes</td>\n",
              "      <td>Yes</td>\n",
              "      <td>70</td>\n",
              "      <td>NaN</td>\n",
              "    </tr>\n",
              "    <tr>\n",
              "      <th>1</th>\n",
              "      <td>33</td>\n",
              "      <td>failed</td>\n",
              "      <td>Yes</td>\n",
              "      <td>Yes</td>\n",
              "      <td>57</td>\n",
              "      <td>NaN</td>\n",
              "    </tr>\n",
              "    <tr>\n",
              "      <th>2</th>\n",
              "      <td>30</td>\n",
              "      <td>failed</td>\n",
              "      <td>No</td>\n",
              "      <td>No</td>\n",
              "      <td>158</td>\n",
              "      <td>http://uchubijin.com</td>\n",
              "    </tr>\n",
              "    <tr>\n",
              "      <th>3</th>\n",
              "      <td>60</td>\n",
              "      <td>failed</td>\n",
              "      <td>Yes</td>\n",
              "      <td>Yes</td>\n",
              "      <td>2</td>\n",
              "      <td>http://www.linkedin.com/pub/mys-reign/1a/469/4a8</td>\n",
              "    </tr>\n",
              "    <tr>\n",
              "      <th>4</th>\n",
              "      <td>30</td>\n",
              "      <td>failed</td>\n",
              "      <td>Yes</td>\n",
              "      <td>Yes</td>\n",
              "      <td>411</td>\n",
              "      <td>http://strangertravels.wordpress.com</td>\n",
              "    </tr>\n",
              "  </tbody>\n",
              "</table>\n",
              "</div>\n",
              "      <button class=\"colab-df-convert\" onclick=\"convertToInteractive('df-2e872bd7-9324-4637-a5b0-9c9efe1d4d86')\"\n",
              "              title=\"Convert this dataframe to an interactive table.\"\n",
              "              style=\"display:none;\">\n",
              "        \n",
              "  <svg xmlns=\"http://www.w3.org/2000/svg\" height=\"24px\"viewBox=\"0 0 24 24\"\n",
              "       width=\"24px\">\n",
              "    <path d=\"M0 0h24v24H0V0z\" fill=\"none\"/>\n",
              "    <path d=\"M18.56 5.44l.94 2.06.94-2.06 2.06-.94-2.06-.94-.94-2.06-.94 2.06-2.06.94zm-11 1L8.5 8.5l.94-2.06 2.06-.94-2.06-.94L8.5 2.5l-.94 2.06-2.06.94zm10 10l.94 2.06.94-2.06 2.06-.94-2.06-.94-.94-2.06-.94 2.06-2.06.94z\"/><path d=\"M17.41 7.96l-1.37-1.37c-.4-.4-.92-.59-1.43-.59-.52 0-1.04.2-1.43.59L10.3 9.45l-7.72 7.72c-.78.78-.78 2.05 0 2.83L4 21.41c.39.39.9.59 1.41.59.51 0 1.02-.2 1.41-.59l7.78-7.78 2.81-2.81c.8-.78.8-2.07 0-2.86zM5.41 20L4 18.59l7.72-7.72 1.47 1.35L5.41 20z\"/>\n",
              "  </svg>\n",
              "      </button>\n",
              "      \n",
              "  <style>\n",
              "    .colab-df-container {\n",
              "      display:flex;\n",
              "      flex-wrap:wrap;\n",
              "      gap: 12px;\n",
              "    }\n",
              "\n",
              "    .colab-df-convert {\n",
              "      background-color: #E8F0FE;\n",
              "      border: none;\n",
              "      border-radius: 50%;\n",
              "      cursor: pointer;\n",
              "      display: none;\n",
              "      fill: #1967D2;\n",
              "      height: 32px;\n",
              "      padding: 0 0 0 0;\n",
              "      width: 32px;\n",
              "    }\n",
              "\n",
              "    .colab-df-convert:hover {\n",
              "      background-color: #E2EBFA;\n",
              "      box-shadow: 0px 1px 2px rgba(60, 64, 67, 0.3), 0px 1px 3px 1px rgba(60, 64, 67, 0.15);\n",
              "      fill: #174EA6;\n",
              "    }\n",
              "\n",
              "    [theme=dark] .colab-df-convert {\n",
              "      background-color: #3B4455;\n",
              "      fill: #D2E3FC;\n",
              "    }\n",
              "\n",
              "    [theme=dark] .colab-df-convert:hover {\n",
              "      background-color: #434B5C;\n",
              "      box-shadow: 0px 1px 3px 1px rgba(0, 0, 0, 0.15);\n",
              "      filter: drop-shadow(0px 1px 2px rgba(0, 0, 0, 0.3));\n",
              "      fill: #FFFFFF;\n",
              "    }\n",
              "  </style>\n",
              "\n",
              "      <script>\n",
              "        const buttonEl =\n",
              "          document.querySelector('#df-2e872bd7-9324-4637-a5b0-9c9efe1d4d86 button.colab-df-convert');\n",
              "        buttonEl.style.display =\n",
              "          google.colab.kernel.accessAllowed ? 'block' : 'none';\n",
              "\n",
              "        async function convertToInteractive(key) {\n",
              "          const element = document.querySelector('#df-2e872bd7-9324-4637-a5b0-9c9efe1d4d86');\n",
              "          const dataTable =\n",
              "            await google.colab.kernel.invokeFunction('convertToInteractive',\n",
              "                                                     [key], {});\n",
              "          if (!dataTable) return;\n",
              "\n",
              "          const docLinkHtml = 'Like what you see? Visit the ' +\n",
              "            '<a target=\"_blank\" href=https://colab.research.google.com/notebooks/data_table.ipynb>data table notebook</a>'\n",
              "            + ' to learn more about interactive tables.';\n",
              "          element.innerHTML = '';\n",
              "          dataTable['output_type'] = 'display_data';\n",
              "          await google.colab.output.renderOutput(dataTable, element);\n",
              "          const docLink = document.createElement('div');\n",
              "          docLink.innerHTML = docLinkHtml;\n",
              "          element.appendChild(docLink);\n",
              "        }\n",
              "      </script>\n",
              "    </div>\n",
              "  </div>\n",
              "  "
            ]
          },
          "metadata": {},
          "execution_count": 4
        }
      ]
    },
    {
      "cell_type": "code",
      "source": [
        "# tratamento dos dados:\n",
        "data['Creator Website'] = data['Creator Website'].map(lambda x: 1 if (type(x)==str) else 0)\n",
        "data['State'] = data['State'].map({'failed':0, 'successful':1})\n",
        "data['Has Video'] = data['Has Video'].map({'Yes':1, 'No':0})\n",
        "data['Facebook Connected'] = data['Facebook Connected'].map({'Yes':1, 'No':0})\n",
        "\n",
        "data.head()"
      ],
      "metadata": {
        "colab": {
          "base_uri": "https://localhost:8080/",
          "height": 206
        },
        "id": "eI3yqo-odUa6",
        "outputId": "03b0eee7-5933-45cf-cedf-e22fed26021c"
      },
      "execution_count": null,
      "outputs": [
        {
          "output_type": "execute_result",
          "data": {
            "text/plain": [
              "   Duration in Days  State  Has Video  Facebook Connected  Facebook Shares  \\\n",
              "0                30      0          1                   1               70   \n",
              "1                33      0          1                   1               57   \n",
              "2                30      0          0                   0              158   \n",
              "3                60      0          1                   1                2   \n",
              "4                30      0          1                   1              411   \n",
              "\n",
              "   Creator Website  \n",
              "0                0  \n",
              "1                0  \n",
              "2                1  \n",
              "3                1  \n",
              "4                1  "
            ],
            "text/html": [
              "\n",
              "  <div id=\"df-02d757ae-a1a7-43fe-b780-2816944880a4\">\n",
              "    <div class=\"colab-df-container\">\n",
              "      <div>\n",
              "<style scoped>\n",
              "    .dataframe tbody tr th:only-of-type {\n",
              "        vertical-align: middle;\n",
              "    }\n",
              "\n",
              "    .dataframe tbody tr th {\n",
              "        vertical-align: top;\n",
              "    }\n",
              "\n",
              "    .dataframe thead th {\n",
              "        text-align: right;\n",
              "    }\n",
              "</style>\n",
              "<table border=\"1\" class=\"dataframe\">\n",
              "  <thead>\n",
              "    <tr style=\"text-align: right;\">\n",
              "      <th></th>\n",
              "      <th>Duration in Days</th>\n",
              "      <th>State</th>\n",
              "      <th>Has Video</th>\n",
              "      <th>Facebook Connected</th>\n",
              "      <th>Facebook Shares</th>\n",
              "      <th>Creator Website</th>\n",
              "    </tr>\n",
              "  </thead>\n",
              "  <tbody>\n",
              "    <tr>\n",
              "      <th>0</th>\n",
              "      <td>30</td>\n",
              "      <td>0</td>\n",
              "      <td>1</td>\n",
              "      <td>1</td>\n",
              "      <td>70</td>\n",
              "      <td>0</td>\n",
              "    </tr>\n",
              "    <tr>\n",
              "      <th>1</th>\n",
              "      <td>33</td>\n",
              "      <td>0</td>\n",
              "      <td>1</td>\n",
              "      <td>1</td>\n",
              "      <td>57</td>\n",
              "      <td>0</td>\n",
              "    </tr>\n",
              "    <tr>\n",
              "      <th>2</th>\n",
              "      <td>30</td>\n",
              "      <td>0</td>\n",
              "      <td>0</td>\n",
              "      <td>0</td>\n",
              "      <td>158</td>\n",
              "      <td>1</td>\n",
              "    </tr>\n",
              "    <tr>\n",
              "      <th>3</th>\n",
              "      <td>60</td>\n",
              "      <td>0</td>\n",
              "      <td>1</td>\n",
              "      <td>1</td>\n",
              "      <td>2</td>\n",
              "      <td>1</td>\n",
              "    </tr>\n",
              "    <tr>\n",
              "      <th>4</th>\n",
              "      <td>30</td>\n",
              "      <td>0</td>\n",
              "      <td>1</td>\n",
              "      <td>1</td>\n",
              "      <td>411</td>\n",
              "      <td>1</td>\n",
              "    </tr>\n",
              "  </tbody>\n",
              "</table>\n",
              "</div>\n",
              "      <button class=\"colab-df-convert\" onclick=\"convertToInteractive('df-02d757ae-a1a7-43fe-b780-2816944880a4')\"\n",
              "              title=\"Convert this dataframe to an interactive table.\"\n",
              "              style=\"display:none;\">\n",
              "        \n",
              "  <svg xmlns=\"http://www.w3.org/2000/svg\" height=\"24px\"viewBox=\"0 0 24 24\"\n",
              "       width=\"24px\">\n",
              "    <path d=\"M0 0h24v24H0V0z\" fill=\"none\"/>\n",
              "    <path d=\"M18.56 5.44l.94 2.06.94-2.06 2.06-.94-2.06-.94-.94-2.06-.94 2.06-2.06.94zm-11 1L8.5 8.5l.94-2.06 2.06-.94-2.06-.94L8.5 2.5l-.94 2.06-2.06.94zm10 10l.94 2.06.94-2.06 2.06-.94-2.06-.94-.94-2.06-.94 2.06-2.06.94z\"/><path d=\"M17.41 7.96l-1.37-1.37c-.4-.4-.92-.59-1.43-.59-.52 0-1.04.2-1.43.59L10.3 9.45l-7.72 7.72c-.78.78-.78 2.05 0 2.83L4 21.41c.39.39.9.59 1.41.59.51 0 1.02-.2 1.41-.59l7.78-7.78 2.81-2.81c.8-.78.8-2.07 0-2.86zM5.41 20L4 18.59l7.72-7.72 1.47 1.35L5.41 20z\"/>\n",
              "  </svg>\n",
              "      </button>\n",
              "      \n",
              "  <style>\n",
              "    .colab-df-container {\n",
              "      display:flex;\n",
              "      flex-wrap:wrap;\n",
              "      gap: 12px;\n",
              "    }\n",
              "\n",
              "    .colab-df-convert {\n",
              "      background-color: #E8F0FE;\n",
              "      border: none;\n",
              "      border-radius: 50%;\n",
              "      cursor: pointer;\n",
              "      display: none;\n",
              "      fill: #1967D2;\n",
              "      height: 32px;\n",
              "      padding: 0 0 0 0;\n",
              "      width: 32px;\n",
              "    }\n",
              "\n",
              "    .colab-df-convert:hover {\n",
              "      background-color: #E2EBFA;\n",
              "      box-shadow: 0px 1px 2px rgba(60, 64, 67, 0.3), 0px 1px 3px 1px rgba(60, 64, 67, 0.15);\n",
              "      fill: #174EA6;\n",
              "    }\n",
              "\n",
              "    [theme=dark] .colab-df-convert {\n",
              "      background-color: #3B4455;\n",
              "      fill: #D2E3FC;\n",
              "    }\n",
              "\n",
              "    [theme=dark] .colab-df-convert:hover {\n",
              "      background-color: #434B5C;\n",
              "      box-shadow: 0px 1px 3px 1px rgba(0, 0, 0, 0.15);\n",
              "      filter: drop-shadow(0px 1px 2px rgba(0, 0, 0, 0.3));\n",
              "      fill: #FFFFFF;\n",
              "    }\n",
              "  </style>\n",
              "\n",
              "      <script>\n",
              "        const buttonEl =\n",
              "          document.querySelector('#df-02d757ae-a1a7-43fe-b780-2816944880a4 button.colab-df-convert');\n",
              "        buttonEl.style.display =\n",
              "          google.colab.kernel.accessAllowed ? 'block' : 'none';\n",
              "\n",
              "        async function convertToInteractive(key) {\n",
              "          const element = document.querySelector('#df-02d757ae-a1a7-43fe-b780-2816944880a4');\n",
              "          const dataTable =\n",
              "            await google.colab.kernel.invokeFunction('convertToInteractive',\n",
              "                                                     [key], {});\n",
              "          if (!dataTable) return;\n",
              "\n",
              "          const docLinkHtml = 'Like what you see? Visit the ' +\n",
              "            '<a target=\"_blank\" href=https://colab.research.google.com/notebooks/data_table.ipynb>data table notebook</a>'\n",
              "            + ' to learn more about interactive tables.';\n",
              "          element.innerHTML = '';\n",
              "          dataTable['output_type'] = 'display_data';\n",
              "          await google.colab.output.renderOutput(dataTable, element);\n",
              "          const docLink = document.createElement('div');\n",
              "          docLink.innerHTML = docLinkHtml;\n",
              "          element.appendChild(docLink);\n",
              "        }\n",
              "      </script>\n",
              "    </div>\n",
              "  </div>\n",
              "  "
            ]
          },
          "metadata": {},
          "execution_count": 5
        }
      ]
    },
    {
      "cell_type": "markdown",
      "source": [
        "# Modelagem Não Paramétrica"
      ],
      "metadata": {
        "id": "RgFzQBlWplRs"
      }
    },
    {
      "cell_type": "markdown",
      "source": [
        "Antes de começarmos a modelagem, vamos definir certas variáveis:\n",
        "* T: duração das campanhas em dias - coluna \"Duration in Days\";\n",
        "* E: presença ou não de censura - coluna \"State\";\n",
        "* $G_i$: indica a que grupo a observação pertence; $i=1,2,3,4$ - colunas \"Has Video\", \"Facebook Connected\", \"Facebook Shares\", \"Creator Website\";\n",
        "\n",
        "\n",
        "Como vamos ajustar um modelo não paramétrico para os dados, temos que o suporte da variável T é da forma:\n",
        " $$\\Theta_T = \\{0; \\text{ tempos observados não censurados; } \\infty \\}.$$\n",
        "\n",
        "Em se tratando de código, temos:"
      ],
      "metadata": {
        "id": "8jbVDvVaqBuB"
      }
    },
    {
      "cell_type": "code",
      "source": [
        "# Variáveis:\n",
        "T = data['Duration in Days']\n",
        "E = data['State']\n",
        "\n",
        "# Suporte de T:\n",
        "aux = data[data['State']==1]\n",
        "sup = aux['Duration in Days'].unique()\n",
        "del aux\n",
        "\n",
        "sup = np.concatenate((sup, np.array([0, sup.max()+1])))\n",
        "sup.sort()\n",
        "sup"
      ],
      "metadata": {
        "colab": {
          "base_uri": "https://localhost:8080/"
        },
        "id": "rLHtgSCKu0ze",
        "outputId": "e100f700-735f-48fe-8c39-63eeafae47ea"
      },
      "execution_count": null,
      "outputs": [
        {
          "output_type": "execute_result",
          "data": {
            "text/plain": [
              "array([ 0,  1,  2,  3,  4,  5,  6,  7,  8,  9, 10, 11, 12, 13, 14, 15, 16,\n",
              "       17, 18, 19, 20, 21, 22, 23, 24, 25, 26, 27, 28, 29, 30, 31, 32, 33,\n",
              "       34, 35, 36, 37, 38, 39, 40, 41, 42, 43, 44, 45, 46, 47, 48, 49, 50,\n",
              "       51, 52, 53, 54, 55, 56, 57, 58, 59, 60, 61])"
            ]
          },
          "metadata": {},
          "execution_count": 19
        }
      ]
    },
    {
      "cell_type": "code",
      "source": [
        "# Inicializando o modelo Kaplan-Meier\n",
        "mKM = KaplanMeierModel()\n",
        "\n",
        "# Ajustando o modelo\n",
        "mKM.fit(T, E, alpha=0.95)"
      ],
      "metadata": {
        "id": "XWUrTxlQpzq8"
      },
      "execution_count": null,
      "outputs": []
    },
    {
      "cell_type": "code",
      "execution_count": null,
      "metadata": {
        "colab": {
          "base_uri": "https://localhost:8080/",
          "height": 404
        },
        "outputId": "56fca5ae-34c7-4147-aeb4-c757ef18f373",
        "id": "D2r8N9NXiCFd"
      },
      "outputs": [
        {
          "output_type": "display_data",
          "data": {
            "text/plain": [
              "<Figure size 720x432 with 1 Axes>"
            ],
            "image/png": "[encoded data removed]"
          },
          "metadata": {
            "needs_background": "light"
          }
        }
      ],
      "source": [
        "# Valores estimados das funções:\n",
        "fh = []\n",
        "fS = []\n",
        "\n",
        "for ano in sup:\n",
        "  fh.append(mKM.predict_hazard(ano))\n",
        "  fS.append(mKM.predict_survival(ano))\n",
        "\n",
        "fh = np.array(fh)\n",
        "fH = fh.cumsum()\n",
        "fS = np.array(fS)\n",
        "fdp = fS*fh\n",
        "fda = fdp.cumsum()\n",
        "\n",
        "\n",
        "# Gráfico da função de Sobrevivência:\n",
        "plt.figure(figsize=(10,6))\n",
        "\n",
        "plt.plot(sup, fS)\n",
        "plt.xlabel('Time')\n",
        "plt.ylabel('Probability')\n",
        "plt.title('Survival Function - S(t)')\n",
        "plt.grid()\n",
        "\n",
        "plt.show()"
      ]
    },
    {
      "cell_type": "code",
      "execution_count": null,
      "metadata": {
        "id": "g3RCzBLOwB8a",
        "colab": {
          "base_uri": "https://localhost:8080/",
          "height": 621
        },
        "outputId": "503f7036-e3fe-4e45-f76e-2c6983126593"
      },
      "outputs": [
        {
          "output_type": "display_data",
          "data": {
            "text/plain": [
              "<Figure size 1080x720 with 4 Axes>"
            ],
            "image/png": "[encoded data removed]"
          },
          "metadata": {
            "needs_background": "light"
          }
        }
      ],
      "source": [
        "# Gráficos para as funções: \n",
        "plt.figure(figsize=(15, 10))\n",
        "\n",
        "plt.subplot(221)\n",
        "plt.plot(sup, fdp)\n",
        "plt.xlabel('Time')\n",
        "plt.ylabel('Probability')\n",
        "plt.title('Density Function - f(t)')\n",
        "\n",
        "plt.subplot(222)\n",
        "plt.plot(sup, fda)\n",
        "plt.xlabel('Time')\n",
        "plt.ylabel('Probability')\n",
        "plt.title('Acumulate Density Function - F(t)')\n",
        "\n",
        "plt.subplot(223)\n",
        "plt.plot(sup, fh)\n",
        "plt.xlabel('Time')\n",
        "plt.title('Hazard Function - h(t)')\n",
        "\n",
        "plt.subplot(224)\n",
        "plt.plot(sup, fH)\n",
        "plt.xlabel('Time')\n",
        "plt.title('Acumulate Hazard Function - H(t)')\n",
        "\n",
        "plt.show()"
      ]
    },
    {
      "cell_type": "markdown",
      "source": [
        "# Medidas Resumo do Modelo"
      ],
      "metadata": {
        "id": "AgLQFARWz_8J"
      }
    },
    {
      "cell_type": "markdown",
      "source": [
        "Nesta seção, iremos estimar e analisar as medidas: vida média residual, tempo de vida médio e sua prórpia variância.\n",
        "Para isso, iremos precisar dos tempos distintos observados dos dados não censurados ordenados em ordem crescente, então vamos criar um vetor `t_j`, tal que:\n",
        "\n",
        "$$\\text{t_j} = \\{ \\mathbf{t}_{(1)}, \\mathbf{t}_{(2)}, ..., \\mathbf{t}_{(k)} \\}, \\text{ sendo k a quantidade de tempos distintos.}$$"
      ],
      "metadata": {
        "id": "Yu3qUiEQAVXT"
      }
    },
    {
      "cell_type": "code",
      "source": [
        "# Tempos distintos ordenados\n",
        "t_j = pd.DataFrame({'Time':T, 'State':E})\n",
        "t_j.sort_values(by=['Time'], inplace=True)\n",
        "\n",
        "# Quantidade de tempos distintos não censurados\n",
        "k = sup.shape[0]-2"
      ],
      "metadata": {
        "id": "RaGYsfqK6naF"
      },
      "execution_count": null,
      "outputs": []
    },
    {
      "cell_type": "markdown",
      "source": [
        "Antes de realmente começarmos a calcular as medidas, dois vetores auxiliares são necessários, são eles:\n",
        "$$n_j : \\text{o número de observações sob risco no intervalo }[t_j, t_{j+1});$$\n",
        "$$d_j : \\text{o número de falhas no intervalo }[t_j, t_{j+1}); \\text{ para j=1,...,k}.$$"
      ],
      "metadata": {
        "id": "ThGCPAtGoTyf"
      }
    },
    {
      "cell_type": "code",
      "source": [
        "n_j = [t_j.shape[0]] # n_j : o numero de individuos sob risco no tempo t_j\n",
        "d_j = []             # d_j : o numero de falhas no intervalo [t_j ; t_j+1)\n",
        "\n",
        "for j in range(0, k):\n",
        "    # I_j : intervalo [t_j ; t_j+1)\n",
        "    I_j = t_j.query('@sup[@j+1] > `Time` >= @sup[@j]')\n",
        "    #print(I_j)\n",
        "    n_j.append(n_j[j]-I_j.shape[0])\n",
        "    d_j.append(I_j.query('`State`==1').shape[0])\n",
        "\n",
        "n_j = n_j[1:]\n",
        "\n",
        "#print(n_j)\n",
        "#print(d_j)\n",
        "print(f'Tam(n_j) = {len(n_j)} e Tam(d_j) = {len(d_j)}.')"
      ],
      "metadata": {
        "colab": {
          "base_uri": "https://localhost:8080/"
        },
        "id": "acbg8Wl10E6N",
        "outputId": "9598bc6e-2bd2-4c35-989f-2121dc6470d9"
      },
      "execution_count": null,
      "outputs": [
        {
          "output_type": "stream",
          "name": "stdout",
          "text": [
            "Tam(n_j) = 60 e Tam(d_j) = 60.\n"
          ]
        }
      ]
    },
    {
      "cell_type": "markdown",
      "source": [
        "Finalmente, como visto em aula, vamos estimar o tempo de vida médio por:\n",
        "\n",
        "$$\\hat{TVM} = t_{(1)} + \\sum^{k-1}_{j=1} \\hat{S}(t_{j})$$"
      ],
      "metadata": {
        "id": "aMVaAKinp_M5"
      }
    },
    {
      "cell_type": "code",
      "source": [
        "# TVM\n",
        "tmv = sup[1]\n",
        "\n",
        "for j in range(2, k+1):\n",
        "    tmv += (sup[j+1] - sup[j])*fS[j+1]\n",
        "    \n",
        "print(f'A estimativa de TVM é: TMV* = {tmv:.5f}.')"
      ],
      "metadata": {
        "colab": {
          "base_uri": "https://localhost:8080/"
        },
        "id": "vPCwgXAT4hCb",
        "outputId": "7069f22e-080d-442a-9e75-e3e2f9f98dcc"
      },
      "execution_count": null,
      "outputs": [
        {
          "output_type": "stream",
          "name": "stdout",
          "text": [
            "A estimativa de TVM é: TMV* = 38.32382.\n"
          ]
        }
      ]
    },
    {
      "cell_type": "code",
      "source": [
        "A2_j = lambda j: sum((sup[j+1:] - sup[j:-1])*fS[j:-1])\n",
        "\n",
        "A2 = np.array([A2_j(j) for j in range(0, k)])\n",
        "div = np.array(n_j[0:k])*(np.array(n_j[0:k])-np.array(d_j[0:k]))\n",
        "\n",
        "Var = k/(k-1)*sum(A2/div)\n",
        "\n",
        "print(f'E a estimativa de Var(TMV*) é: {Var:.5f}.')"
      ],
      "metadata": {
        "colab": {
          "base_uri": "https://localhost:8080/"
        },
        "id": "Fji2WosM5PpB",
        "outputId": "7e04907e-2b80-4f82-9d46-794808d129da"
      },
      "execution_count": null,
      "outputs": [
        {
          "output_type": "stream",
          "name": "stdout",
          "text": [
            "E a estimativa de Var(TMV*) é: 0.00005.\n"
          ]
        }
      ]
    },
    {
      "cell_type": "code",
      "source": [
        "# Calculo da aréa sob a curva S:\n",
        "auc = []\n",
        "for j in range(0, k+1):\n",
        "    auc.append(A2_j(j))\n",
        "\n",
        "print(len(auc))"
      ],
      "metadata": {
        "colab": {
          "base_uri": "https://localhost:8080/"
        },
        "id": "AsWwTjb75pkD",
        "outputId": "39ed0ad4-77fa-496c-e3e3-41f6d860bd13"
      },
      "execution_count": null,
      "outputs": [
        {
          "output_type": "stream",
          "name": "stdout",
          "text": [
            "61\n"
          ]
        }
      ]
    },
    {
      "cell_type": "code",
      "source": [
        "# VMR\n",
        "VMR = np.array(auc)/fS[:-1]\n",
        "print(len(VMR))"
      ],
      "metadata": {
        "colab": {
          "base_uri": "https://localhost:8080/"
        },
        "id": "15i_R9wd5-Ru",
        "outputId": "428c620d-e39e-4584-96ef-05b3f2489c32"
      },
      "execution_count": null,
      "outputs": [
        {
          "output_type": "stream",
          "name": "stdout",
          "text": [
            "61\n"
          ]
        }
      ]
    },
    {
      "cell_type": "code",
      "source": [
        "# Gráficos\n",
        "plt.figure(figsize=(10,6))\n",
        "\n",
        "plt.plot(sup[:-1], VMR)\n",
        "plt.title('Vida Média Residual', fontsize=18)\n",
        "plt.xlabel('Tempo')\n",
        "plt.grid()\n",
        "\n",
        "plt.show()"
      ],
      "metadata": {
        "colab": {
          "base_uri": "https://localhost:8080/",
          "height": 408
        },
        "id": "RVleqQ0H6JUr",
        "outputId": "a2502f0c-7f61-4c7e-ae2d-3161117c6cef"
      },
      "execution_count": null,
      "outputs": [
        {
          "output_type": "display_data",
          "data": {
            "text/plain": [
              "<Figure size 720x432 with 1 Axes>"
            ],
            "image/png": "[encoded data removed]"
          },
          "metadata": {
            "needs_background": "light"
          }
        }
      ]
    },
    {
      "cell_type": "markdown",
      "source": [
        "Bom, a gente não viu como obter a mediana (e realmente, é estranho tentar obtê-la em uma função escada), mas o Koda me disse que ideia é encontrar o valor que chega mais perto.\n",
        "Assim sendo, temos que: <br>\n",
        "\n",
        "$$\\hat{S}(t=33) = 0.5099 \\text{   e   } \\hat{S}(t=34) = 0.4902.$$"
      ],
      "metadata": {
        "id": "H6jDTdbz4s9x"
      }
    },
    {
      "cell_type": "markdown",
      "source": [
        "# Testes"
      ],
      "metadata": {
        "id": "iQknOZNKAD7S"
      }
    }
  ],
  "metadata": {
    "colab": {
      "collapsed_sections": [
        "79e2Q_hHFbQa",
        "RgFzQBlWplRs"
      ],
      "name": "Análise de Sobrevivência.ipynb",
      "provenance": []
    },
    "kernelspec": {
      "display_name": "Python 3",
      "name": "python3"
    },
    "language_info": {
      "name": "python"
    }
  },
  "nbformat": 4,
  "nbformat_minor": 0
}